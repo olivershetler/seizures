{
 "cells": [
  {
   "cell_type": "markdown",
   "metadata": {},
   "source": [
    "We will follow a two step process for classifying the EEG data. First, we will load the data set and extract features. Then we will run several models on the resulting data."
   ]
  },
  {
   "cell_type": "code",
   "execution_count": 1,
   "metadata": {},
   "outputs": [],
   "source": [
    "import numpy as np\n",
    "import pandas as pd\n",
    "import tsfresh as ts"
   ]
  },
  {
   "cell_type": "code",
   "execution_count": 8,
   "metadata": {},
   "outputs": [],
   "source": [
    "original_path = \"./data/seizures_original.csv\"\n",
    "rawData = pd.read_csv(original_path).loc[:,\"X1\":\"X178\"]\n",
    "TimeStamps = [round(1000*t/178,2) for t in range(1,179)]*len(pd.read_csv(original_path)[[\"X1\"]])\n",
    "rawData = rawData.transpose().melt()"
   ]
  },
  {
   "cell_type": "code",
   "execution_count": 3,
   "metadata": {},
   "outputs": [],
   "source": [
    "#rawData[[\"time\"]] = pd.DataFrame(TimeStamps,columns=[\"time\"])\n",
    "rawData[\"time\"] = pd.Series(TimeStamps)"
   ]
  },
  {
   "cell_type": "code",
   "execution_count": 4,
   "metadata": {},
   "outputs": [],
   "source": [
    "response = pd.read_csv(path).loc[:,\"y\"]\n",
    "y = []\n",
    "for i in range(len(response)):\n",
    "    y.extend([str(response[i])]*178)\n",
    "y = y\n",
    "rawData[\"y\"] = pd.Series(y)\n",
    "y = pd.Series(y)\n",
    "response = pd.Series(response)"
   ]
  },
  {
   "cell_type": "code",
   "execution_count": 5,
   "metadata": {},
   "outputs": [
    {
     "name": "stderr",
     "output_type": "stream",
     "text": [
      "Feature Extraction: 100%|██████████| 20/20 [05:42<00:00, 17.13s/it]\n"
     ]
    }
   ],
   "source": [
    "from tsfresh import extract_relevant_features\n",
    "rfd = extract_relevant_features(rawData.loc[:,\"variable\":\"time\"], \n",
    "                                response, \n",
    "                                column_id='variable', \n",
    "                                column_sort='time',\n",
    "                                column_value=\"value\",\n",
    "                                ml_task=\"classification\")"
   ]
  },
  {
   "cell_type": "code",
   "execution_count": 6,
   "metadata": {},
   "outputs": [],
   "source": [
    "write_path = \"./data/seizures_features.csv\"\n",
    "rfd.to_csv(write_path)"
   ]
  },
  {
   "cell_type": "code",
   "execution_count": 9,
   "metadata": {},
   "outputs": [],
   "source": [
    "features_path = \"./data/seizures_features.csv\"\n",
    "original_path = \"./data/seizures_original.csv\"\n",
    "rfd_read = pd.read_csv(features_path)\n",
    "response = pd.read_csv(original_path).loc[:,\"y\"]"
   ]
  },
  {
   "cell_type": "code",
   "execution_count": 11,
   "metadata": {},
   "outputs": [],
   "source": [
    "from tsfresh.feature_selection.relevance import calculate_relevance_table\n",
    "full_rel_table = calculate_relevance_table(rfd,response,\n",
    "                                           ml_task='classification')"
   ]
  },
  {
   "cell_type": "markdown",
   "metadata": {
    "jupyter": {
     "outputs_hidden": true
    }
   },
   "source": [
    "Next, we run several models."
   ]
  },
  {
   "cell_type": "code",
   "execution_count": 12,
   "metadata": {},
   "outputs": [],
   "source": [
    "from sklearn.model_selection import train_test_split as split\n",
    "X = rfd\n",
    "y = response\n",
    "X_train, X_test, y_train, y_test = split(X,y,test_size=round(11500*0.2),random_state=145)"
   ]
  },
  {
   "cell_type": "code",
   "execution_count": 13,
   "metadata": {},
   "outputs": [],
   "source": [
    "from sklearn.metrics import confusion_matrix, classification_report, precision_score\n",
    "def accuracy_score(CM):\n",
    "    return round(np.sum(np.diag(CM))/np.sum(CM),4)*100"
   ]
  },
  {
   "cell_type": "markdown",
   "metadata": {},
   "source": [
    "# Support Vector Machine"
   ]
  },
  {
   "cell_type": "code",
   "execution_count": 17,
   "metadata": {},
   "outputs": [],
   "source": [
    "from sklearn.svm import SVC\n",
    "SVM1_clf = SVC(gamma=\"scale\", random_state=42)\n",
    "rdf_SVM1 = SVM1_clf.fit(X_train,y_train)\n",
    "y_pred_SVM1 = rdf_SVM1.predict(X_test)\n",
    "CM_SVM1 = confusion_matrix(y_test,y_pred_SVM1)"
   ]
  },
  {
   "cell_type": "code",
   "execution_count": 15,
   "metadata": {},
   "outputs": [
    {
     "name": "stdout",
     "output_type": "stream",
     "text": [
      "              precision    recall  f1-score   support\n",
      "\n",
      "           1       0.91      0.90      0.90       460\n",
      "           2       0.80      0.03      0.05       457\n",
      "           3       0.23      0.07      0.10       457\n",
      "           4       0.39      0.11      0.17       469\n",
      "           5       0.28      0.97      0.44       457\n",
      "\n",
      "    accuracy                           0.41      2300\n",
      "   macro avg       0.52      0.41      0.33      2300\n",
      "weighted avg       0.52      0.41      0.33      2300\n",
      "\n"
     ]
    }
   ],
   "source": [
    "print(classification_report(y_test,y_pred_SVM1))"
   ]
  },
  {
   "cell_type": "markdown",
   "metadata": {},
   "source": [
    "# Decision Tree Bagging"
   ]
  },
  {
   "cell_type": "code",
   "execution_count": 16,
   "metadata": {},
   "outputs": [],
   "source": [
    "from sklearn.tree import DecisionTreeClassifier\n",
    "from sklearn.ensemble import BaggingClassifier\n",
    "bag_clf = BaggingClassifier(\n",
    "    DecisionTreeClassifier(random_state=2), n_estimators=500,\n",
    "    max_samples=100, bootstrap=True, random_state=2)\n",
    "rdf_bag = bag_clf.fit(X_train,y_train)\n",
    "y_pred_bag = rdf_bag.predict(X_test)\n",
    "CM_bag = confusion_matrix(y_test,y_pred_bag)"
   ]
  },
  {
   "cell_type": "code",
   "execution_count": 119,
   "metadata": {},
   "outputs": [
    {
     "name": "stdout",
     "output_type": "stream",
     "text": [
      "              precision    recall  f1-score   support\n",
      "\n",
      "           1       0.90      0.95      0.92       460\n",
      "           2       0.53      0.46      0.49       457\n",
      "           3       0.57      0.60      0.58       457\n",
      "           4       0.84      0.81      0.82       469\n",
      "           5       0.70      0.75      0.73       457\n",
      "\n",
      "    accuracy                           0.71      2300\n",
      "   macro avg       0.71      0.71      0.71      2300\n",
      "weighted avg       0.71      0.71      0.71      2300\n",
      "\n"
     ]
    }
   ],
   "source": [
    "print(classification_report(y_test,y_pred_bag))"
   ]
  },
  {
   "cell_type": "code",
   "execution_count": null,
   "metadata": {},
   "outputs": [],
   "source": [
    "classification_report(CM_bag)"
   ]
  },
  {
   "cell_type": "markdown",
   "metadata": {},
   "source": [
    "# Random Forest"
   ]
  },
  {
   "cell_type": "code",
   "execution_count": null,
   "metadata": {},
   "outputs": [],
   "source": [
    "from sklearn.ensemble import RandomForestClassifier\n",
    "RF_clf = RandomForestClassifier(n_estimators=500, random_state=2)\n",
    "rdf_RF = RF_clf.fit(X_train,y_train)\n",
    "y_pred_RF = rdf_RF.predict(X_test)\n",
    "CM_RF = confusion_matrix(y_test,y_pred_RF)"
   ]
  },
  {
   "cell_type": "code",
   "execution_count": 120,
   "metadata": {},
   "outputs": [
    {
     "name": "stdout",
     "output_type": "stream",
     "text": [
      "              precision    recall  f1-score   support\n",
      "\n",
      "           1       0.97      0.98      0.97       460\n",
      "           2       0.77      0.70      0.73       457\n",
      "           3       0.73      0.79      0.76       457\n",
      "           4       0.92      0.90      0.91       469\n",
      "           5       0.84      0.87      0.85       457\n",
      "\n",
      "    accuracy                           0.84      2300\n",
      "   macro avg       0.84      0.84      0.84      2300\n",
      "weighted avg       0.85      0.84      0.84      2300\n",
      "\n"
     ]
    }
   ],
   "source": [
    "print(classification_report(y_test,y_pred_RF))"
   ]
  },
  {
   "cell_type": "code",
   "execution_count": null,
   "metadata": {},
   "outputs": [],
   "source": [
    "classification_report(CM_RF)"
   ]
  },
  {
   "cell_type": "code",
   "execution_count": 82,
   "metadata": {},
   "outputs": [],
   "source": [
    "%matplotlib inline\n",
    "import matplotlib as mpl\n",
    "import matplotlib.pyplot as plt\n",
    "mpl.rc('axes', labelsize=14)\n",
    "mpl.rc('xtick', labelsize=12)\n",
    "mpl.rc('ytick', labelsize=12)"
   ]
  },
  {
   "cell_type": "code",
   "execution_count": 90,
   "metadata": {},
   "outputs": [],
   "source": [
    "def plot_digit(data):\n",
    "    image = data[:400].reshape(20,20)\n",
    "    plt.imshow(image, cmap = mpl.cm.hot,\n",
    "               interpolation=\"nearest\")\n",
    "    plt.axis(\"off\")"
   ]
  },
  {
   "cell_type": "code",
   "execution_count": 93,
   "metadata": {},
   "outputs": [
    {
     "data": {
      "image/png": "[encoded data removed]",
      "text/plain": [
       "<Figure size 432x288 with 2 Axes>"
      ]
     },
     "metadata": {
      "needs_background": "light"
     },
     "output_type": "display_data"
    }
   ],
   "source": [
    "plot_digit(RF_clf.feature_importances_)\n",
    "\n",
    "cbar = plt.colorbar(ticks=[RF_clf.feature_importances_.min(), RF_clf.feature_importances_.max()])\n",
    "cbar.ax.set_yticklabels(['Not important', 'Very important'])\n",
    "\n",
    "plt.show()"
   ]
  },
  {
   "cell_type": "markdown",
   "metadata": {},
   "source": [
    "# Decison Tree Boosting"
   ]
  },
  {
   "cell_type": "code",
   "execution_count": null,
   "metadata": {},
   "outputs": [],
   "source": [
    "from sklearn.ensemble import GradientBoostingClassifier\n",
    "boost = GradientBoostingClassifier(n_estimators=500, learning_rate=0.005, random_state=2)\n",
    "rdf_boost = boost.fit(X_train, y_train)\n",
    "y_pred_boost = rdf_boost.predict(X_test)\n",
    "CM_boost = confusion_matrix(y_test,y_pred_boost)"
   ]
  },
  {
   "cell_type": "code",
   "execution_count": 121,
   "metadata": {},
   "outputs": [
    {
     "name": "stdout",
     "output_type": "stream",
     "text": [
      "              precision    recall  f1-score   support\n",
      "\n",
      "           1       0.94      0.97      0.95       460\n",
      "           2       0.69      0.61      0.65       457\n",
      "           3       0.70      0.74      0.72       457\n",
      "           4       0.92      0.88      0.90       469\n",
      "           5       0.81      0.86      0.83       457\n",
      "\n",
      "    accuracy                           0.81      2300\n",
      "   macro avg       0.81      0.81      0.81      2300\n",
      "weighted avg       0.81      0.81      0.81      2300\n",
      "\n"
     ]
    }
   ],
   "source": [
    "print(classification_report(y_test,y_pred_boost))"
   ]
  },
  {
   "cell_type": "code",
   "execution_count": null,
   "metadata": {},
   "outputs": [],
   "source": [
    "classification_report(CM_boost)"
   ]
  },
  {
   "cell_type": "markdown",
   "metadata": {},
   "source": [
    "# Lastly, we do a voting CLF"
   ]
  },
  {
   "cell_type": "code",
   "execution_count": 50,
   "metadata": {},
   "outputs": [],
   "source": [
    "from sklearn.ensemble import VotingClassifier\n",
    "voting_clf = VotingClassifier(\n",
    "    estimators=[('SVM', SVM_clf), ('RF', RF_clf), ('Boost', boost)],\n",
    "    voting='hard')"
   ]
  },
  {
   "cell_type": "code",
   "execution_count": 51,
   "metadata": {},
   "outputs": [
    {
     "data": {
      "text/plain": [
       "VotingClassifier(estimators=[('SVM', SVC(random_state=42)),\n",
       "                             ('RF',\n",
       "                              RandomForestClassifier(n_estimators=500,\n",
       "                                                     random_state=2)),\n",
       "                             ('Boost',\n",
       "                              GradientBoostingClassifier(learning_rate=0.005,\n",
       "                                                         n_estimators=500,\n",
       "                                                         random_state=2))])"
      ]
     },
     "execution_count": 51,
     "metadata": {},
     "output_type": "execute_result"
    }
   ],
   "source": [
    "rdf_voting = voting_clf.fit(X_train, y_train)"
   ]
  },
  {
   "cell_type": "code",
   "execution_count": 62,
   "metadata": {},
   "outputs": [],
   "source": [
    "y_pred_voting = voting_clf.predict(X_test)\n",
    "CM_voting = confusion_matrix(y_test,y_pred_voting)"
   ]
  },
  {
   "cell_type": "code",
   "execution_count": 122,
   "metadata": {},
   "outputs": [
    {
     "name": "stdout",
     "output_type": "stream",
     "text": [
      "              precision    recall  f1-score   support\n",
      "\n",
      "           1       0.95      0.97      0.96       460\n",
      "           2       0.72      0.71      0.71       457\n",
      "           3       0.77      0.71      0.74       457\n",
      "           4       0.93      0.87      0.90       469\n",
      "           5       0.80      0.89      0.84       457\n",
      "\n",
      "    accuracy                           0.83      2300\n",
      "   macro avg       0.83      0.83      0.83      2300\n",
      "weighted avg       0.83      0.83      0.83      2300\n",
      "\n"
     ]
    }
   ],
   "source": [
    "print(classification_report(y_test,y_pred_voting))"
   ]
  }
 ],
 "metadata": {
  "kernelspec": {
   "display_name": "Python 3",
   "language": "python",
   "name": "python3"
  },
  "language_info": {
   "codemirror_mode": {
    "name": "ipython",
    "version": 3
   },
   "file_extension": ".py",
   "mimetype": "text/x-python",
   "name": "python",
   "nbconvert_exporter": "python",
   "pygments_lexer": "ipython3",
   "version": "3.9.7"
  }
 },
 "nbformat": 4,
 "nbformat_minor": 4
}
